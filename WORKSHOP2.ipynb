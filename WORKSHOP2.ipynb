{
 "cells": [
  {
   "cell_type": "markdown",
   "id": "537a8663",
   "metadata": {},
   "source": [
    "# WORKSHOP 2\n",
    "## Carlos Eduardo Ortega Clement A01707480\n",
    "### 16/08/2023"
   ]
  },
  {
   "cell_type": "markdown",
   "id": "e2282f6a",
   "metadata": {},
   "source": [
    "# ADVANCED AI STATISTICS MODULE"
   ]
  },
  {
   "cell_type": "markdown",
   "id": "2952762e",
   "metadata": {},
   "source": [
    "### 2.2 MONTE CARLO SIMULATION"
   ]
  },
  {
   "cell_type": "code",
   "execution_count": 2,
   "id": "dc981cca",
   "metadata": {},
   "outputs": [],
   "source": [
    "from symbulate import *\n",
    "#'exec(%matplotlib inline)' \n",
    "import matplotlib\n",
    "\n",
    "import matplotlib.pyplot as plt"
   ]
  },
  {
   "cell_type": "markdown",
   "id": "3a4097f5",
   "metadata": {},
   "source": [
    "### 2.2.1 SIMULATING NUMBERS WITH UNIFORM PROBABILITY DISTRIBUTION"
   ]
  },
  {
   "cell_type": "code",
   "execution_count": 3,
   "id": "c1cbbf16",
   "metadata": {},
   "outputs": [
    {
     "data": {
      "image/png": "[encoded data removed]",
      "text/plain": [
       "<Figure size 640x480 with 1 Axes>"
      ]
     },
     "metadata": {},
     "output_type": "display_data"
    }
   ],
   "source": [
    "# clear the plot space:\n",
    "plt.clf()\n",
    "# Define the probability type of function as uniform (probability space)\n",
    "P = Uniform(0,40)\n",
    "# Define X as a random variable of the type P (uniform)\n",
    "X =RV(P)\n",
    "# Simulate the values of X and save the in the x array: \n",
    "x=X.sim(10000)\n",
    "x.plot()\n",
    "plt.show()"
   ]
  },
  {
   "cell_type": "markdown",
   "id": "6ee579d9",
   "metadata": {},
   "source": [
    "### 2.2.2 CHALLENGE"
   ]
  },
  {
   "cell_type": "markdown",
   "id": "569e4b7a",
   "metadata": {},
   "source": [
    "#### A.  CALCULATE THE MEAN AND STANDARD DEVIATION OF THIS SIMULATED UNIFORM x VARIABLE. HOW CLOSE WERE THESE MEAN AND STANDARD DEVIATION FROM THE THEORETICAL MEAN AND STANDARD DEVIATION?"
   ]
  },
  {
   "cell_type": "code",
   "execution_count": 4,
   "id": "28f5a3b8",
   "metadata": {},
   "outputs": [
    {
     "name": "stdout",
     "output_type": "stream",
     "text": [
      "simulated mean:  19.87113178760155\n",
      "Simulated standar deviation:  11.617474003633639\n",
      "theorical mean:  20.0\n",
      "theorical standar deviation 11.547005383792516\n",
      "Diference between means:  0.12886821239845148\n",
      "Diference between standar deviation:  -0.0704686198411224\n"
     ]
    }
   ],
   "source": [
    "print(\"simulated mean: \",x.mean())\n",
    "print(\"Simulated standar deviation: \",x.std())\n",
    "\n",
    "## THEORICAL MEAN AND STANDAR DEVIATION\n",
    "a= 0\n",
    "b= 40\n",
    "\n",
    "xmean_theorical = a+b/2\n",
    "\n",
    "variance=((b-a)**2)/12\n",
    "xstd_theorical = variance**0.5\n",
    "\n",
    "print(\"theorical mean: \",xmean_theorical)\n",
    "print(\"theorical standar deviation\",xstd_theorical)\n",
    "\n",
    "print(\"Diference between means: \",xmean_theorical-x.mean())\n",
    "print(\"Diference between standar deviation: \",xstd_theorical-x.std())\n"
   ]
  },
  {
   "cell_type": "markdown",
   "id": "65658a61",
   "metadata": {},
   "source": [
    "PODEMOS OBSERVAR QUE LA DIFERENCIA ENTRE LOS VALORES TEÓRICOS Y SIMULADOS ES MUY PEQUEÑA, LA TEÓRICA TAMBIÉN PARECE SER MÁS EXACTA EN LA MEDIA YA QUE SE TRATA DE LA MITAD DE UN RECTÁNGULO. EN CAMBIO, LA SIMULADA TIENE MUCHOS DÉCIMALES. AÚN ASÍ, EL ERROR SIGUE SIENDO MUY PEQUEÑO ENTRE ELLOS"
   ]
  },
  {
   "cell_type": "markdown",
   "id": "f8c6aac2",
   "metadata": {},
   "source": [
    "#### B. INTERPET THE ABOVE HISTOGRAM. WHAT DO YOU SEE? EXPLAIN WITH YOUR WORDS"
   ]
  },
  {
   "cell_type": "markdown",
   "id": "15af945d",
   "metadata": {},
   "source": [
    "En el histograma podemos observar que existe una distribución normal en todos los datos, esto quiere decir que todos los valores tienen la misma probabilidad de ocurrir. Es por eso que casi todos los datos tienen la misma altura, o sea la misma frecuencia de aparición."
   ]
  },
  {
   "cell_type": "markdown",
   "id": "b717b7eb",
   "metadata": {},
   "source": [
    "#### Now generate 10,000 groups of 25 uniform random variables to end up in a matrix of 10,000 rows and 25 columns"
   ]
  },
  {
   "cell_type": "code",
   "execution_count": 5,
   "id": "834e0517",
   "metadata": {},
   "outputs": [],
   "source": [
    "# Define the probability space as a vector of 25 uniform random numbers:\n",
    "P = Uniform(0,40) ** 25\n",
    "# Define XVECTOR as a vector of random variables with 25 random values \n",
    "XVECTOR =RV(P)\n",
    "# Simulate 10,000 vectors to get a matrix  \n",
    "xmatrix=XVECTOR.sim(10000)"
   ]
  },
  {
   "cell_type": "markdown",
   "id": "cb0c3170",
   "metadata": {},
   "source": [
    "#### Now xmatrix will have 10,000 rows and 25 columns of uniform random numbers between 0 and 40:"
   ]
  },
  {
   "cell_type": "code",
   "execution_count": 6,
   "id": "219d9280",
   "metadata": {},
   "outputs": [
    {
     "data": {
      "text/html": [
       "\n",
       "    <table>\n",
       "      <thead>\n",
       "        <th width=\"10%\">Index</th>\n",
       "        <th width=\"90%\">Result</th>\n",
       "      </thead>\n",
       "      <tbody>\n",
       "        \n",
       "        <tr>\n",
       "          <td>0</td><td>(23.06616413630199, 8.789167917227957, 7.499638740849277, 34.1698402116517, 35.313807452371, ..., 9....</td>\n",
       "        </tr>\n",
       "        \n",
       "        <tr>\n",
       "          <td>1</td><td>(25.715378855226362, 3.681259109435704, 24.840226371039996, 8.111987207198105, 39.413038017187255, ....</td>\n",
       "        </tr>\n",
       "        \n",
       "        <tr>\n",
       "          <td>2</td><td>(39.16159669726911, 6.045044956807266, 6.00291534447873, 5.552563300229099, 20.292302997948024, ...,...</td>\n",
       "        </tr>\n",
       "        \n",
       "        <tr>\n",
       "          <td>3</td><td>(30.90717791297408, 19.968574087666703, 9.629001580323692, 32.71800854171427, 22.47725082472161, ......</td>\n",
       "        </tr>\n",
       "        \n",
       "        <tr>\n",
       "          <td>4</td><td>(8.270954682678259, 30.91431338394011, 27.10298218058824, 1.2719831311000185, 11.543066820027374, .....</td>\n",
       "        </tr>\n",
       "        \n",
       "        <tr>\n",
       "          <td>5</td><td>(23.81368554590089, 6.761431704205498, 20.73429676750607, 2.394248155200973, 23.82059157184951, ...,...</td>\n",
       "        </tr>\n",
       "        \n",
       "        <tr>\n",
       "          <td>6</td><td>(21.24351638249886, 23.681922710983784, 21.571300194281406, 1.6019054540719058, 22.42194226800022, ....</td>\n",
       "        </tr>\n",
       "        \n",
       "        <tr>\n",
       "          <td>7</td><td>(4.061285551872702, 5.5153866260411855, 8.522113686686815, 18.768808510231395, 11.907087570122838, ....</td>\n",
       "        </tr>\n",
       "        \n",
       "        <tr>\n",
       "          <td>8</td><td>(39.09442842930807, 5.2056668655645355, 20.85299116239642, 20.795994891506766, 15.938561644330242, ....</td>\n",
       "        </tr>\n",
       "        <tr><td>...</td><td>...</td></tr>\n",
       "        <tr>\n",
       "          <td>9999</td><td>(9.970683914631731, 27.519817186570002, 1.5899822903613936, 5.582001356377573, 0.4795079769535393, ....</td>\n",
       "        </tr>\n",
       "        \n",
       "      </tbody>\n",
       "    </table>\n",
       "        "
      ],
      "text/plain": [
       "Index Result\n",
       "0     (23.06616413630199, 8.789167917227957, 7.499638740849277, 34.1698402116517, 35.313807452371, ..., 9.471478512100045)\n",
       "1     (25.715378855226362, 3.681259109435704, 24.840226371039996, 8.111987207198105, 39.413038017187255, ..., 15.903766192667552)\n",
       "2     (39.16159669726911, 6.045044956807266, 6.00291534447873, 5.552563300229099, 20.292302997948024, ..., 25.762342221486733)\n",
       "3     (30.90717791297408, 19.968574087666703, 9.629001580323692, 32.71800854171427, 22.47725082472161, ..., 9.227325220414793)\n",
       "4     (8.270954682678259, 30.91431338394011, 27.10298218058824, 1.2719831311000185, 11.543066820027374, ..., 36.922374926118806)\n",
       "5     (23.81368554590089, 6.761431704205498, 20.73429676750607, 2.394248155200973, 23.82059157184951, ..., 10.382483213704825)\n",
       "6     (21.24351638249886, 23.681922710983784, 21.571300194281406, 1.6019054540719058, 22.42194226800022, ..., 30.126866095227495)\n",
       "7     (4.061285551872702, 5.5153866260411855, 8.522113686686815, 18.768808510231395, 11.907087570122838, ..., 6.74306460981239)\n",
       "8     (39.09442842930807, 5.2056668655645355, 20.85299116239642, 20.795994891506766, 15.938561644330242, ..., 17.575802267903853)\n",
       "....  ...........................................................................................................................\n",
       "9999  (9.970683914631731, 27.519817186570002, 1.5899822903613936, 5.582001356377573, 0.4795079769535393, ..., 27.548051922454157)"
      ]
     },
     "execution_count": 6,
     "metadata": {},
     "output_type": "execute_result"
    }
   ],
   "source": [
    "xmatrix"
   ]
  },
  {
   "cell_type": "markdown",
   "id": "bd97745b",
   "metadata": {},
   "source": [
    "#### Now we get the mean of each row, so we end up with 10,000 sample means:"
   ]
  },
  {
   "cell_type": "code",
   "execution_count": 7,
   "id": "d863b044",
   "metadata": {},
   "outputs": [
    {
     "data": {
      "text/html": [
       "\n",
       "    <table>\n",
       "      <thead>\n",
       "        <th width=\"10%\">Index</th>\n",
       "        <th width=\"90%\">Result</th>\n",
       "      </thead>\n",
       "      <tbody>\n",
       "        \n",
       "        <tr>\n",
       "          <td>0</td><td>22.38885294729811</td>\n",
       "        </tr>\n",
       "        \n",
       "        <tr>\n",
       "          <td>1</td><td>23.454505818233937</td>\n",
       "        </tr>\n",
       "        \n",
       "        <tr>\n",
       "          <td>2</td><td>22.45707755341854</td>\n",
       "        </tr>\n",
       "        \n",
       "        <tr>\n",
       "          <td>3</td><td>20.084892438174453</td>\n",
       "        </tr>\n",
       "        \n",
       "        <tr>\n",
       "          <td>4</td><td>21.806021282799076</td>\n",
       "        </tr>\n",
       "        \n",
       "        <tr>\n",
       "          <td>5</td><td>16.87553104300039</td>\n",
       "        </tr>\n",
       "        \n",
       "        <tr>\n",
       "          <td>6</td><td>15.378373537638454</td>\n",
       "        </tr>\n",
       "        \n",
       "        <tr>\n",
       "          <td>7</td><td>19.127763167264217</td>\n",
       "        </tr>\n",
       "        \n",
       "        <tr>\n",
       "          <td>8</td><td>18.535079564417696</td>\n",
       "        </tr>\n",
       "        <tr><td>...</td><td>...</td></tr>\n",
       "        <tr>\n",
       "          <td>9999</td><td>20.64323329445082</td>\n",
       "        </tr>\n",
       "        \n",
       "      </tbody>\n",
       "    </table>\n",
       "        "
      ],
      "text/plain": [
       "Index Result\n",
       "0     22.38885294729811\n",
       "1     23.454505818233937\n",
       "2     22.45707755341854\n",
       "3     20.084892438174453\n",
       "4     21.806021282799076\n",
       "5     16.87553104300039\n",
       "6     15.378373537638454\n",
       "7     19.127763167264217\n",
       "8     18.535079564417696\n",
       "....  .................\n",
       "9999  20.64323329445082"
      ]
     },
     "execution_count": 7,
     "metadata": {},
     "output_type": "execute_result"
    }
   ],
   "source": [
    "# The 2nd parameter is the mathematical operation applied to each row of the random vector\n",
    "# Simulate 10,000 means of each random vector of 25 uniform distributed numbers: \n",
    "xmean = RV(P,mean).sim(10000)\n",
    "xmean"
   ]
  },
  {
   "cell_type": "markdown",
   "id": "3bebe0a3",
   "metadata": {},
   "source": [
    "#### Now do a histogram of these sample means that come from a UNIFORM distribution."
   ]
  },
  {
   "cell_type": "code",
   "execution_count": 7,
   "id": "ea5d8445",
   "metadata": {},
   "outputs": [
    {
     "data": {
      "image/png": "[encoded data removed]",
      "text/plain": [
       "<Figure size 640x480 with 1 Axes>"
      ]
     },
     "metadata": {},
     "output_type": "display_data"
    }
   ],
   "source": [
    "plt.clf()\n",
    "xmean.plot()\n",
    "plt.show()"
   ]
  },
  {
   "cell_type": "markdown",
   "id": "9e950ebb",
   "metadata": {},
   "source": [
    "Se reduce la variabilidad, o sea la varianza disminuye. \n",
    "Tiene forma de campana\n",
    "Se ve la frecuencia de todos los promedios obtenidos anteriormente, también por eso existe menos variabilidad\n",
    "La media está en el valor 20 o cercano\n"
   ]
  },
  {
   "cell_type": "markdown",
   "id": "e17b2920",
   "metadata": {},
   "source": [
    "### 2.2.3 CHALLENGE"
   ]
  },
  {
   "cell_type": "markdown",
   "id": "984325c8",
   "metadata": {},
   "source": [
    "#### A. CALCULATE THE MEAN AND STANDARD DEVIATION OF THE xmean VARIABLE. HOW SIMILAR OR DIFFERENT ARE THESE VALUES FROM THE MEAN AND STANDARD DEVIATION OF x?"
   ]
  },
  {
   "cell_type": "code",
   "execution_count": 12,
   "id": "f38f6b8b",
   "metadata": {},
   "outputs": [
    {
     "name": "stdout",
     "output_type": "stream",
     "text": [
      "La media de la nueva distribución:  19.999707993334763\n",
      "La desviación estándar de la nuva distribución:  2.30195114511652\n"
     ]
    }
   ],
   "source": [
    "print(\"La media de la nueva distribución: \", xmean.mean())\n",
    "print(\"La desviación estándar de la nuva distribución: \", xmean.std())\n"
   ]
  },
  {
   "cell_type": "markdown",
   "id": "cc5c58d0",
   "metadata": {},
   "source": [
    "Comparando los valores de la xmean con los valores de la x podemos decir que la media de los valores promedios se acerca mucho más a la media teórica, con un valor de 19.999, mientras que la de x se acerca con un valor de 19.87. \n",
    "\n",
    "Donde hay mucha diferencia es en la desviación estándar ya que en la de x es un valor de 11.61 pero en la de xmean tiene un valor de 2.30, eso quiere decir que nno existe tanta variabilidad en xmean como en la distribución de x. "
   ]
  },
  {
   "cell_type": "markdown",
   "id": "37e066e6",
   "metadata": {},
   "source": [
    "#### B. WHAT DO YOU SEE IN THE ABOVE HISTOGRAM? DOES THE HISTOGRAM OF SAMPLE MEANS OF UNIFORM RANDOM VARIABLE LOOK LIKE A UNIFORM DISTRIBUTED VARIABLE? DO YOU SEE A LOGIC? BRIEFLY EXPLAIN WHAT YOU THINK."
   ]
  },
  {
   "cell_type": "markdown",
   "id": "47f73f1a",
   "metadata": {},
   "source": [
    "El histograma muestra una distribución normalizada ya que tiene una forma de campana gausseana casi simétrica. Aquí ya muestra que los eventos más probables a ocurrir son los que tienen el valor 20 o aproximadamente por ahí. Se puede confirmar también que el 68% de los datos oscilan entre 17.7 y 22.3 por la desviación estándar."
   ]
  },
  {
   "cell_type": "markdown",
   "id": "148c1db7",
   "metadata": {},
   "source": [
    "Now plot both variables in the same plot; the original x uniform variable and the xsample variable (the sample means of x)."
   ]
  },
  {
   "cell_type": "code",
   "execution_count": 13,
   "id": "75e4bd2d",
   "metadata": {},
   "outputs": [
    {
     "data": {
      "image/png": "[encoded data removed]",
      "text/plain": [
       "<Figure size 640x480 with 1 Axes>"
      ]
     },
     "metadata": {},
     "output_type": "display_data"
    }
   ],
   "source": [
    "plt.clf()\n",
    "xmean.plot()\n",
    "x.plot()\n",
    "plt.show()"
   ]
  },
  {
   "cell_type": "markdown",
   "id": "805f0c01",
   "metadata": {},
   "source": [
    "### 2.2.4 Simulating numbers with the NORMAL probability distribution"
   ]
  },
  {
   "cell_type": "code",
   "execution_count": 14,
   "id": "309653eb",
   "metadata": {},
   "outputs": [
    {
     "data": {
      "image/png": "[encoded data removed]",
      "text/plain": [
       "<Figure size 640x480 with 1 Axes>"
      ]
     },
     "metadata": {},
     "output_type": "display_data"
    }
   ],
   "source": [
    "# clear the plot space:\n",
    "plt.clf()\n",
    "# Define the probability type of function as uniform (probability space)\n",
    "P = Normal(mean=20, sd=10)\n",
    "# Define Y as a random variable of the type P (normal)\n",
    "Y =RV(P)\n",
    "# Simulate 10,000 values of Y and save the in the x array: \n",
    "y=Y.sim(10000)\n",
    "y.plot()\n",
    "plt.show()"
   ]
  },
  {
   "cell_type": "markdown",
   "id": "cdded7bc",
   "metadata": {},
   "source": [
    "### 2.2.5 CHALLENGE"
   ]
  },
  {
   "cell_type": "markdown",
   "id": "895df8f1",
   "metadata": {},
   "source": [
    "#### A. CALCULATE THE MEAN AND STANDARD DEVIATION OF THIS RANDOM y VARIABLE. HOW SIMILAR OR DIFFERENT ARE THESE VALUES FROM THE MEAN AND STANDARD DEVIATION OF THE THEORETICAL MEAN (20) AND THE THEORETICAL STANDARD DEVIATION (10)?"
   ]
  },
  {
   "cell_type": "code",
   "execution_count": 21,
   "id": "4ad1cfa4",
   "metadata": {},
   "outputs": [
    {
     "name": "stdout",
     "output_type": "stream",
     "text": [
      "19.788810968977195\n",
      "10.065466707142502\n"
     ]
    }
   ],
   "source": [
    "print(y.mean())\n",
    "print(y.std())\n"
   ]
  },
  {
   "cell_type": "markdown",
   "id": "b2e4e3e5",
   "metadata": {},
   "source": [
    "Podemos decir que son muy similares a los valores teóricos, solo que en este caso la desviación estándar es un poco más alta en los valores reales que en los simulados."
   ]
  },
  {
   "cell_type": "markdown",
   "id": "3bcc3068",
   "metadata": {},
   "source": [
    "#### B. WHAT DO YOU SEE? INTERPRET THE HISTOGRAM WITH YOUR WORDS."
   ]
  },
  {
   "cell_type": "markdown",
   "id": "f5f10642",
   "metadata": {},
   "source": [
    "En este caso los valores tienen un rango muy amplio, de -20 a 60 aproximadamente. Igual  tiene forma de campana y los más frecuentes son valores entre 10 y 30. Donde los más frecuentes son los de 20. también podemos ver que son valores individuales distribuidos de forma normal"
   ]
  },
  {
   "cell_type": "markdown",
   "id": "72df7283",
   "metadata": {},
   "source": [
    "Now generate 10,000 groups of 25 NORMAL random variables with mean=20 and SD=10. You will end up with a matrix of 10,000 rows and 25 columns:"
   ]
  },
  {
   "cell_type": "code",
   "execution_count": 22,
   "id": "ef7fa068",
   "metadata": {},
   "outputs": [],
   "source": [
    "# Define the probability space P as a vector of 25 normal random numbers:\n",
    "P = Normal(mean=20, sd=10) ** 25\n",
    "# Define RANDOMVECTOR as a vector of 25 random variables in the Probability space P \n",
    "RANDOMVECTOR = RV(P)\n",
    "# Simulate 10,000 random vectors with this distribution and save the in ymatrix: \n",
    "ymatrix=RANDOMVECTOR.sim(10000)"
   ]
  },
  {
   "cell_type": "code",
   "execution_count": 24,
   "id": "626c3b7a",
   "metadata": {},
   "outputs": [
    {
     "data": {
      "text/html": [
       "\n",
       "    <table>\n",
       "      <thead>\n",
       "        <th width=\"10%\">Index</th>\n",
       "        <th width=\"90%\">Result</th>\n",
       "      </thead>\n",
       "      <tbody>\n",
       "        \n",
       "        <tr>\n",
       "          <td>0</td><td>22.028000654132033</td>\n",
       "        </tr>\n",
       "        \n",
       "        <tr>\n",
       "          <td>1</td><td>19.72869729460675</td>\n",
       "        </tr>\n",
       "        \n",
       "        <tr>\n",
       "          <td>2</td><td>20.983436755553463</td>\n",
       "        </tr>\n",
       "        \n",
       "        <tr>\n",
       "          <td>3</td><td>16.977616029650974</td>\n",
       "        </tr>\n",
       "        \n",
       "        <tr>\n",
       "          <td>4</td><td>21.286170063331735</td>\n",
       "        </tr>\n",
       "        \n",
       "        <tr>\n",
       "          <td>5</td><td>19.82805896895479</td>\n",
       "        </tr>\n",
       "        \n",
       "        <tr>\n",
       "          <td>6</td><td>19.77809235479546</td>\n",
       "        </tr>\n",
       "        \n",
       "        <tr>\n",
       "          <td>7</td><td>22.700928477447093</td>\n",
       "        </tr>\n",
       "        \n",
       "        <tr>\n",
       "          <td>8</td><td>19.2559303682529</td>\n",
       "        </tr>\n",
       "        <tr><td>...</td><td>...</td></tr>\n",
       "        <tr>\n",
       "          <td>9999</td><td>20.146809681021022</td>\n",
       "        </tr>\n",
       "        \n",
       "      </tbody>\n",
       "    </table>\n",
       "        "
      ],
      "text/plain": [
       "Index Result\n",
       "0     22.028000654132033\n",
       "1     19.72869729460675\n",
       "2     20.983436755553463\n",
       "3     16.977616029650974\n",
       "4     21.286170063331735\n",
       "5     19.82805896895479\n",
       "6     19.77809235479546\n",
       "7     22.700928477447093\n",
       "8     19.2559303682529\n",
       "....  ..................\n",
       "9999  20.146809681021022"
      ]
     },
     "execution_count": 24,
     "metadata": {},
     "output_type": "execute_result"
    }
   ],
   "source": [
    "# The 2nd parameter is the mathematical operation applied to each row of the random vector\n",
    "# Simulate 10,000 means of each random vector of 25 uniform distributed numbers: \n",
    "ymean = RV(P,mean).sim(10000)\n",
    "ymean"
   ]
  },
  {
   "cell_type": "markdown",
   "id": "e51ee21b",
   "metadata": {},
   "source": [
    "Now do a histogram of these sample means of Y."
   ]
  },
  {
   "cell_type": "code",
   "execution_count": 25,
   "id": "81491f59",
   "metadata": {},
   "outputs": [
    {
     "data": {
      "image/png": "[encoded data removed]",
      "text/plain": [
       "<Figure size 640x480 with 1 Axes>"
      ]
     },
     "metadata": {},
     "output_type": "display_data"
    }
   ],
   "source": [
    "plt.clf()\n",
    "ymean.plot()\n",
    "plt.show()"
   ]
  },
  {
   "cell_type": "markdown",
   "id": "32aca2e2",
   "metadata": {},
   "source": [
    "### 2.2.6 CHALLENGE"
   ]
  },
  {
   "cell_type": "markdown",
   "id": "90420755",
   "metadata": {},
   "source": [
    "#### A. CALCULATE THE MEAN AND STANDARD DEVIATION OF THE ymean VARIABLE. HOW SIMILAR OR DIFFERENT ARE THESE VALUES FROM THE MEAN AND STANDARD DEVIATION OF y?"
   ]
  },
  {
   "cell_type": "code",
   "execution_count": 27,
   "id": "019352ba",
   "metadata": {},
   "outputs": [
    {
     "name": "stdout",
     "output_type": "stream",
     "text": [
      "20.064842410714373\n",
      "2.000351760731698\n"
     ]
    }
   ],
   "source": [
    "print(ymean.mean())\n",
    "print(ymean.std())"
   ]
  },
  {
   "cell_type": "markdown",
   "id": "dff8124b",
   "metadata": {},
   "source": [
    "#### B. INTERPRET THE ABOVE HISTOGRAM OF THE SAMPLES OF y"
   ]
  },
  {
   "cell_type": "markdown",
   "id": "50aae51f",
   "metadata": {},
   "source": [
    "A diferencia de la otra variable y, podemos observar que la variabilidad se redujo drásticamente, pues su std ahora tiene un valor de 2. También la media es más exacta que la primera distribución normal. Este histograma usa la media de 25 vectores, por lo que se comporta más normal"
   ]
  },
  {
   "cell_type": "code",
   "execution_count": 35,
   "id": "9752458b",
   "metadata": {},
   "outputs": [
    {
     "data": {
      "image/png": "[encoded data removed]",
      "text/plain": [
       "<Figure size 640x480 with 1 Axes>"
      ]
     },
     "metadata": {},
     "output_type": "display_data"
    }
   ],
   "source": [
    "plt.clf()\n",
    "ymean.plot()\n",
    "y.plot()\n",
    "plt.show()"
   ]
  },
  {
   "cell_type": "markdown",
   "id": "fa7bec3f",
   "metadata": {},
   "source": [
    "#### C. WHAT DO YOU SEE? COMPARE BOTH HISTOGRAMS. BRIEFLY EXPLAIN WHAT YOU THINK THAT HAPPEND."
   ]
  },
  {
   "cell_type": "markdown",
   "id": "da9b267f",
   "metadata": {},
   "source": [
    "El histograma naranja tiene valores individuales mientras que el otro tiene el promedio de esos valores individuales, es por eso que aunque los dos son distribuciones normales el azul tiene mucho menos variabilidad ya que está utilizando el promedio. Esto se puede comprobar con las desviaciónes estándar resultantes, la azul con un valor de 2 y el naranja con un valor de 10. El azul nos puede dar una interpretación más exacta del comportamiento de las variables aleatorias con tan solo tomar unas muestras promediadas"
   ]
  },
  {
   "cell_type": "markdown",
   "id": "1a88957d",
   "metadata": {},
   "source": [
    "### 4.1 CHALLENGE"
   ]
  },
  {
   "cell_type": "markdown",
   "id": "7c40564c",
   "metadata": {},
   "source": [
    "#### A) DEFINE THE VARIABLE OF STUDY. In this case it will be the mean of MSFT cc returns"
   ]
  },
  {
   "cell_type": "code",
   "execution_count": 2,
   "id": "17adaf78",
   "metadata": {},
   "outputs": [],
   "source": [
    "import pandas as pd\n",
    "import yfinance as yf\n",
    "import numpy as np\n",
    "from scipy import stats\n",
    "import math\n"
   ]
  },
  {
   "cell_type": "code",
   "execution_count": 3,
   "id": "390ba82e",
   "metadata": {},
   "outputs": [
    {
     "name": "stdout",
     "output_type": "stream",
     "text": [
      "[*********************100%***********************]  1 of 1 completed\n"
     ]
    }
   ],
   "source": [
    "# Descargar datos diarios de Microsoft\n",
    "msft = yf.download(\"MSFT\", start=\"2017-01-01\", end=\"2023-01-01\", interval=\"1mo\")\n",
    "\n",
    "# Calcular los rendimientos diarios de cambio porcentual\n",
    "msft[\"r\"] = np.log(msft['Adj Close'] / msft['Adj Close'].shift(1))\n",
    "msft.dropna(inplace=True)  # Eliminar filas con valores faltantes\n",
    "\n"
   ]
  },
  {
   "cell_type": "code",
   "execution_count": 4,
   "id": "87d767e8",
   "metadata": {},
   "outputs": [
    {
     "data": {
      "image/png": "[encoded data removed]",
      "text/plain": [
       "<Figure size 640x480 with 1 Axes>"
      ]
     },
     "metadata": {},
     "output_type": "display_data"
    }
   ],
   "source": [
    "R_msft = pd.DataFrame(msft[[\"r\"]])\n",
    "R_msft.dropna()\n",
    "hist=R_msft.plot.hist(bins=15,alpha=0.5,title=\"Histogram of monthly microsoft Returns\")"
   ]
  },
  {
   "cell_type": "markdown",
   "id": "64bfe27a",
   "metadata": {},
   "source": [
    "#### B) WRITE THE NULL AND THE ALTERNATIVE HYPOTHESIS."
   ]
  },
  {
   "cell_type": "code",
   "execution_count": 5,
   "id": "d24db832",
   "metadata": {},
   "outputs": [
    {
     "data": {
      "text/plain": [
       "count    71.000000\n",
       "mean      0.019620\n",
       "std       0.057944\n",
       "min      -0.113590\n",
       "25%      -0.011777\n",
       "50%       0.021839\n",
       "75%       0.055691\n",
       "max       0.162367\n",
       "Name: r, dtype: float64"
      ]
     },
     "execution_count": 5,
     "metadata": {},
     "output_type": "execute_result"
    }
   ],
   "source": [
    "msft[\"r\"].describe()"
   ]
  },
  {
   "cell_type": "code",
   "execution_count": 6,
   "id": "bc02e4b9",
   "metadata": {},
   "outputs": [
    {
     "name": "stdout",
     "output_type": "stream",
     "text": [
      "0.01962023238788673\n",
      "0.05794369446613607\n"
     ]
    }
   ],
   "source": [
    "r_mean= msft[\"r\"].mean()\n",
    "print(r_mean)\n",
    "print(msft[\"r\"].std())"
   ]
  },
  {
   "cell_type": "markdown",
   "id": "38502f48",
   "metadata": {},
   "source": [
    "#### C) CALCULATE THE STANDARD ERROR, WHICH IS THE STANDARD DEVIATION OF THE VARIABLE OF STUDY."
   ]
  },
  {
   "cell_type": "code",
   "execution_count": 7,
   "id": "04992bfb",
   "metadata": {},
   "outputs": [
    {
     "data": {
      "text/plain": [
       "0.006876651380039896"
      ]
     },
     "execution_count": 7,
     "metadata": {},
     "output_type": "execute_result"
    }
   ],
   "source": [
    "mstf_group_std = msft[\"r\"].std()/math.sqrt(msft[\"r\"].count())\n",
    "\n",
    "mstf_group_std"
   ]
  },
  {
   "cell_type": "markdown",
   "id": "826ecfe4",
   "metadata": {},
   "source": [
    "#### D) CALCULATE THE t-statistic (t-value). EXPLAIN/INTERPRET THE t-statistic."
   ]
  },
  {
   "cell_type": "code",
   "execution_count": 8,
   "id": "b5861b4c",
   "metadata": {},
   "outputs": [
    {
     "data": {
      "text/plain": [
       "2.8531666509714646"
      ]
     },
     "execution_count": 8,
     "metadata": {},
     "output_type": "execute_result"
    }
   ],
   "source": [
    "t_value= r_mean/mstf_group_std\n",
    "t_value"
   ]
  },
  {
   "cell_type": "markdown",
   "id": "25c54e72",
   "metadata": {},
   "source": [
    "#### E) CALCULATE THE 95% CONFIDENCE INTERVAL OF THE SAMPLE MEAN"
   ]
  },
  {
   "cell_type": "code",
   "execution_count": 9,
   "id": "49af367c",
   "metadata": {},
   "outputs": [
    {
     "name": "stdout",
     "output_type": "stream",
     "text": [
      "0.005866929627806938\n",
      "0.033373535147966524\n"
     ]
    }
   ],
   "source": [
    "minn = r_mean-2* mstf_group_std\n",
    "\n",
    "maxx= r_mean + 2*mstf_group_std\n",
    "\n",
    "print(minn)\n",
    "print(maxx)"
   ]
  },
  {
   "cell_type": "markdown",
   "id": "f96fe76e",
   "metadata": {},
   "source": [
    "#### F) WRITE YOUR CONCLUSION OF THE t-TEST"
   ]
  },
  {
   "cell_type": "markdown",
   "id": "6636fa3c",
   "metadata": {},
   "source": [
    "El t-test nos dió un valor mayor a 2, eso quiere decir que existe un 95% de condianza para descartar la hipótesis nula y usar la hipótesis alternativa"
   ]
  }
 ],
 "metadata": {
  "kernelspec": {
   "display_name": "Python 3 (ipykernel)",
   "language": "python",
   "name": "python3"
  },
  "language_info": {
   "codemirror_mode": {
    "name": "ipython",
    "version": 3
   },
   "file_extension": ".py",
   "mimetype": "text/x-python",
   "name": "python",
   "nbconvert_exporter": "python",
   "pygments_lexer": "ipython3",
   "version": "3.11.3"
  }
 },
 "nbformat": 4,
 "nbformat_minor": 5
}
